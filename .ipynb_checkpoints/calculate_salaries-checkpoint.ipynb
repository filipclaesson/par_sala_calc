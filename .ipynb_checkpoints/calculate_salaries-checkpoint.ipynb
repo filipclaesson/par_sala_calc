{
 "cells": [
  {
   "cell_type": "markdown",
   "metadata": {
    "collapsed": true
   },
   "source": [
    "## Import"
   ]
  },
  {
   "cell_type": "code",
   "execution_count": 5,
   "metadata": {
    "collapsed": true
   },
   "outputs": [],
   "source": [
    "#https://peopledoc.github.io/workalendar/basic.html\n",
    "from datetime import date\n",
    "from datetime import timedelta\n",
    "from datetime import datetime\n",
    "from calendar import monthrange\n",
    "from calendra.europe import Sweden\n",
    "import pandas as pd \n",
    "\n",
    "data = pd.read_csv(\"input_py.csv\",sep=';')\n",
    "data = data.fillna(0)\n",
    "data['date_'] = data.apply(lambda x: datetime.strptime(x['date'], '%Y-%m-%d'), axis=1)\n",
    "data = data.set_index('date_')\n"
   ]
  },
  {
   "cell_type": "code",
   "execution_count": 43,
   "metadata": {
    "code_folding": [
     2,
     43
    ],
    "collapsed": true
   },
   "outputs": [],
   "source": [
    "\n",
    "\n",
    "def calc_salary_julia(month_df):\n",
    "\tfrom calendar import monthrange\n",
    "\tfrom datetime import date\n",
    "\tfrom datetime import datetime\n",
    "\t# julia\n",
    "\tmonth = month_df.head(1).index.month[0]\n",
    "\tyear = month_df.head(1).index.year[0]\n",
    "\tnum_days_in_month = monthrange(year,month)[1]\n",
    "\tjulia_salary_monthly = 31800\n",
    "\tsgi_year = 31800*12\n",
    "\tjulia_p_kr_per_day = ((sgi_year*0.8*0.97))/365\n",
    "\tjulia_pwc_bonus_kr_per_day = ((sgi_year*0.2*0.5))/365\n",
    "\tvacation_bonus_kr_per_day = (julia_salary_monthly*0.0043)\n",
    "\t\n",
    "\t## variables\n",
    "\tnum_vacation_days = sum(month_df['vacation_j']*month_df['workday'])\n",
    "\tall_parent_days_j = month_df[['work_bonus_day_j','parent_day_j']].max(axis=1)\n",
    "\tnum_total_parent_days = sum(all_parent_days_j.multiply(month_df['multi_j']))\n",
    "\tnum_work_bonus_days = sum(month_df['work_bonus_day_j'])\n",
    "\tnum_p_julia = sum(month_df['parent_day_j'])\n",
    "\t\n",
    "\t# decide removal of salary\n",
    "\tif (sum(all_parent_days_j)==num_days_in_month):\n",
    "\t\tremove_from_salary_julia = julia_salary_monthly\n",
    "\telse:\n",
    "\t\tremove_from_salary_julia = ((31800*12)/365)*sum(all_parent_days_j)\n",
    "\t#decide money from FK\n",
    "\tsalary_from_work = julia_salary_monthly - remove_from_salary_julia\n",
    "\tfrom_fk_julia = julia_p_kr_per_day*num_total_parent_days\n",
    "\tfrom_pwc_bonus = num_work_bonus_days*julia_pwc_bonus_kr_per_day\n",
    "\tfrom_vacation_bonus = num_vacation_days*vacation_bonus_kr_per_day\n",
    "\ttotal_salary = from_fk_julia +from_pwc_bonus+ salary_from_work + from_vacation_bonus\n",
    "\toutput = {}\n",
    "\toutput['total_salary'] = total_salary\n",
    "\toutput['month'] = date(year,month,1)\n",
    "\toutput['num_vacation_days'] = num_vacation_days\n",
    "\toutput['num_total_parent_days'] = num_total_parent_days\n",
    "\toutput['num_work_bonus_days'] = num_work_bonus_days\n",
    "\toutput['salary_from_work'] = salary_from_work\n",
    "\treturn output\n",
    "\n",
    "def calc_salary_filip(month_df):\n",
    "\tfrom calendar import monthrange\n",
    "\tfrom datetime import date\n",
    "\tfrom datetime import datetime\n",
    "\t# filip\n",
    "\tmonth = month_df.head(1).index.month[0]\n",
    "\tyear = month_df.head(1).index.year[0]\n",
    "\tnum_days_in_month = monthrange(year,month)[1]\n",
    "\tfilip_salary_monthly = 42000\n",
    "\tbb_10 = 46500*10\n",
    "\tsalary_over_10bb_yearly = (filip_salary_monthly*12)-bb_10\n",
    "\tsalary_below_10bb_yearly = filip_salary_monthly*12 - salary_over_10bb_yearly\n",
    "\tfilip_klarna_bonus_kr_per_day = ((salary_below_10bb_yearly*0.2)+ (salary_over_10bb_yearly))/365\n",
    "\tfilip_p_kr_per_day = ((salary_below_10bb_yearly*0.8*0.97))/365\n",
    "\tvacation_bonus_kr_per_day = (filip_salary_monthly*0.0043)\n",
    "\t## variables\n",
    "\tnum_vacation_days = sum(month_df['vacation_f']*month_df['workday'])\n",
    "\tall_parent_days_filip = month_df[['work_bonus_day_f','parent_day_f','10d_f']].max(axis=1)\n",
    "\tnum_total_parent_days = sum(all_parent_days_filip.multiply(month_df['multi_f']))\n",
    "\tnum_work_bonus_days = sum(month_df['work_bonus_day_f'])\n",
    "\t#num_p_filip = sum(month_df[['parent_day_f','10d_f']].max(axis=1))\n",
    "\t# decide removal of salary\n",
    "\tremove_from_salary_filip=0\n",
    "\tif (sum(all_parent_days_filip)==num_days_in_month):\n",
    "\t\tremove_from_salary_filip = filip_salary_monthly\n",
    "\telse:\n",
    "\t\tremove_from_salary_filip = ((filip_salary_monthly*12)/365)*sum(all_parent_days_filip)\n",
    "\n",
    "\tsalary_from_work = filip_salary_monthly - remove_from_salary_filip\n",
    "\tfrom_fk_filip = filip_p_kr_per_day*num_total_parent_days\n",
    "\tfrom_klarna_bonus = num_work_bonus_days*filip_klarna_bonus_kr_per_day\n",
    "\tfrom_vacation_bonus = num_vacation_days*vacation_bonus_kr_per_day\n",
    "\ttotal_salary = from_fk_filip + from_klarna_bonus + salary_from_work + num_vacation_days*vacation_bonus_kr_per_day\t\n",
    "\t## store output\n",
    "\toutput = {}\n",
    "\toutput['total_salary'] = total_salary\n",
    "\toutput['month'] = date(year,month,1)\n",
    "\toutput['num_vacation_days'] = num_vacation_days\n",
    "\toutput['num_total_parent_days'] = num_total_parent_days\n",
    "\toutput['num_work_bonus_days'] = num_work_bonus_days\n",
    "\toutput['salary_from_work'] = salary_from_work\n",
    "\treturn output\n"
   ]
  },
  {
   "cell_type": "code",
   "execution_count": 44,
   "metadata": {
    "collapsed": true
   },
   "outputs": [],
   "source": [
    "# Set up list with every month that needs to be calculated\n",
    "startyear = 2019\n",
    "startmonth = 5\n",
    "endyear = 2021\n",
    "endmonth = 1\n",
    "all_months = [date(m//12, m%12+1, 1) for m in range(startyear*12+startmonth-1, endyear*12+endmonth)]\n"
   ]
  },
  {
   "cell_type": "code",
   "execution_count": 45,
   "metadata": {
    "code_folding": [
     0,
     40
    ]
   },
   "outputs": [],
   "source": [
    "list_of_output = []\n",
    "for i in all_months:\n",
    "    month_df = data[(data.index.year==i.year)&(data.index.month==i.month)]\n",
    "    filip_output = calc_salary_filip(month_df)\n",
    "    filip_output['name'] = 'filip'\n",
    "    julia_output = calc_salary_julia(month_df)\n",
    "    julia_output['name'] = 'julia'\n",
    "    list_of_output.append(filip_output)\n",
    "    list_of_output.append(julia_output)\n"
   ]
  },
  {
   "cell_type": "code",
   "execution_count": 46,
   "metadata": {},
   "outputs": [],
   "source": [
    "pd_output = pd.DataFrame(list_of_output)\n",
    "pd_output.to_csv('out.csv',index=False)"
   ]
  },
  {
   "cell_type": "code",
   "execution_count": 54,
   "metadata": {},
   "outputs": [
    {
     "data": {
      "text/plain": [
       "0     2019-05-01\n",
       "2     2019-06-01\n",
       "4     2019-07-01\n",
       "6     2019-08-01\n",
       "8     2019-09-01\n",
       "10    2019-10-01\n",
       "12    2019-11-01\n",
       "14    2019-12-01\n",
       "16    2020-01-01\n",
       "18    2020-02-01\n",
       "20    2020-03-01\n",
       "22    2020-04-01\n",
       "24    2020-05-01\n",
       "26    2020-06-01\n",
       "28    2020-07-01\n",
       "30    2020-08-01\n",
       "32    2020-09-01\n",
       "34    2020-10-01\n",
       "36    2020-11-01\n",
       "38    2020-12-01\n",
       "40    2021-01-01\n",
       "Name: month, dtype: object"
      ]
     },
     "execution_count": 54,
     "metadata": {},
     "output_type": "execute_result"
    }
   ],
   "source": [
    "output_filip['month']"
   ]
  },
  {
   "cell_type": "code",
   "execution_count": 58,
   "metadata": {},
   "outputs": [
    {
     "data": {
      "image/png": "[encoded data removed]",
      "text/plain": [
       "<matplotlib.figure.Figure at 0x112f3d470>"
      ]
     },
     "metadata": {},
     "output_type": "display_data"
    }
   ],
   "source": [
    "import matplotlib.pyplot as plt; plt.rcdefaults()\n",
    "import matplotlib.pyplot as plt\n",
    "import numpy as np\n",
    "from matplotlib.pyplot import figure\n",
    "figure(num=None, figsize=(18, 6), dpi=80, facecolor='w', edgecolor='k')\n",
    "\n",
    "output_filip['num_total_parent_days']\n",
    "output_filip['month']\n",
    "\n",
    "plt.bar(output_filip['month'],output_filip['num_total_parent_days'] ,width=10,align='center', alpha=0.5)\n",
    "plt.xticks(rotation=90)\n",
    "\n",
    "plt.show()"
   ]
  },
  {
   "cell_type": "code",
   "execution_count": 25,
   "metadata": {},
   "outputs": [],
   "source": [
    "output_filip = pd_output[pd_output['name'] == 'filip']\n",
    "tot_vacation_days = output_filip['num_vacation_days'].sum()\n",
    "tot_parent_days = output_filip['num_total_parent_days'].sum()\n"
   ]
  },
  {
   "cell_type": "code",
   "execution_count": 27,
   "metadata": {},
   "outputs": [
    {
     "ename": "NameError",
     "evalue": "name 'plt' is not defined",
     "output_type": "error",
     "traceback": [
      "\u001b[0;31m---------------------------------------------------------------------------\u001b[0m",
      "\u001b[0;31mNameError\u001b[0m                                 Traceback (most recent call last)",
      "\u001b[0;32m<ipython-input-27-c301bda9fb05>\u001b[0m in \u001b[0;36m<module>\u001b[0;34m()\u001b[0m\n\u001b[0;32m----> 1\u001b[0;31m \u001b[0mplt\u001b[0m\u001b[0;34m.\u001b[0m\u001b[0mplot\u001b[0m\u001b[0;34m(\u001b[0m\u001b[0moutput_filip\u001b[0m\u001b[0;34m[\u001b[0m\u001b[0;34m'month'\u001b[0m\u001b[0;34m]\u001b[0m\u001b[0;34m)\u001b[0m\u001b[0;34m\u001b[0m\u001b[0m\n\u001b[0m",
      "\u001b[0;31mNameError\u001b[0m: name 'plt' is not defined"
     ]
    }
   ],
   "source": [
    "plt.plot(output_filip['month'])"
   ]
  },
  {
   "cell_type": "code",
   "execution_count": null,
   "metadata": {
    "collapsed": true
   },
   "outputs": [],
   "source": []
  }
 ],
 "metadata": {
  "kernelspec": {
   "display_name": "Python 3",
   "language": "python",
   "name": "python3"
  },
  "language_info": {
   "codemirror_mode": {
    "name": "ipython",
    "version": 3
   },
   "file_extension": ".py",
   "mimetype": "text/x-python",
   "name": "python",
   "nbconvert_exporter": "python",
   "pygments_lexer": "ipython3",
   "version": "3.6.3"
  }
 },
 "nbformat": 4,
 "nbformat_minor": 2
}

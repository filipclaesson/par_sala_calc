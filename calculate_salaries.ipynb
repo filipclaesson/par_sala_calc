{
 "cells": [
  {
   "cell_type": "markdown",
   "metadata": {
    "collapsed": true
   },
   "source": [
    "## Import"
   ]
  },
  {
   "cell_type": "code",
   "execution_count": 68,
   "metadata": {
    "collapsed": true
   },
   "outputs": [],
   "source": [
    "#https://peopledoc.github.io/workalendar/basic.html\n",
    "from datetime import date\n",
    "from datetime import timedelta\n",
    "from datetime import datetime\n",
    "from calendar import monthrange\n",
    "#from calendra.europe import Sweden\n",
    "import pandas as pd \n",
    "\n",
    "data = pd.read_csv(\"input_3.csv\",sep=';')\n",
    "data = data.fillna(0)\n",
    "data['date_'] = data.apply(lambda x: datetime.strptime(x['date'], '%Y-%m-%d'), axis=1)\n",
    "data = data.set_index('date_')\n"
   ]
  },
  {
   "cell_type": "code",
   "execution_count": 125,
   "metadata": {
    "collapsed": true
   },
   "outputs": [],
   "source": [
    "\n",
    "def calc_salary(month_df,name):\n",
    "\tfrom calendar import monthrange\n",
    "\tfrom datetime import date\n",
    "\tfrom datetime import datetime\n",
    "\t# julia\n",
    "\tmonth = month_df.head(1).index.month[0]\n",
    "\tyear = month_df.head(1).index.year[0]\n",
    "\tnum_days_in_month = monthrange(year,month)[1]\n",
    "\n",
    "\tif (name == 'julia'):\n",
    "\t\tsalary_monthly = 31800\n",
    "\t\tparent_kr_per_day = ((salary_monthly*12*0.8*0.97))/365\n",
    "\t\twork_bonus_kr_per_day = ((salary_monthly*12*0.2*0.5))/365\n",
    "\t\tvacation_bonus_kr_per_day = (salary_monthly*0.0043)\n",
    "\t\t## variables\n",
    "\t\tnum_effective_vacation_days = sum(month_df['vacation_j']*month_df['workday'])\n",
    "\t\tnum_vacation_days = sum(month_df['vacation_j'])\n",
    "\t\tall_parent_days_list = month_df[['work_bonus_day_j','parent_day_j']].max(axis=1)\n",
    "\t\tnum_parent_days = all_parent_days_list.sum()\n",
    "\t\tnum_effective_parent_days = sum(all_parent_days_list.multiply(month_df['multi_j']))\n",
    "\t\tnum_work_bonus_days = sum(month_df['work_bonus_day_j'])\n",
    "\t\tnum_non_working_days = sum((-month_df['work_j'])*month_df['workday'])\n",
    "\n",
    "\telif (name == 'filip'):\n",
    "\t\tsalary_monthly = 42000\n",
    "\t\tbb_10 = 46500*10\n",
    "\t\tsalary_over_10bb_yearly = (salary_monthly*12)-bb_10\n",
    "\t\tsalary_below_10bb_yearly = salary_monthly*12 - salary_over_10bb_yearly\n",
    "\t\twork_bonus_kr_per_day = ((salary_below_10bb_yearly*0.2)+ (salary_over_10bb_yearly))/365\n",
    "\t\tparent_kr_per_day = ((salary_below_10bb_yearly*0.8*0.97))/365\n",
    "\t\tvacation_bonus_kr_per_day = (salary_monthly*0.0043)\n",
    "\t\t## variables\n",
    "\t\tnum_effective_vacation_days = sum(month_df['vacation_f']*month_df['workday'])\n",
    "\t\tnum_vacation_days = sum(month_df['vacation_f'])\n",
    "\t\tnum_10_days = sum(month_df['10d_f'])\n",
    "\t\tall_parent_days_list = month_df[['work_bonus_day_f','parent_day_f','10d_f']].max(axis=1)\n",
    "\t\tnum_parent_days = all_parent_days_list.sum() - num_10_days\n",
    "\t\tnum_effective_parent_days = sum(all_parent_days_list.multiply(month_df['multi_f']))\n",
    "\t\tnum_work_bonus_days = sum(month_df['work_bonus_day_f'])\n",
    "\t\tnum_non_working_days = sum(month_df['work_f'])\n",
    "\n",
    "\t#num_p_julia = sum(month_df['parent_day_j'])\n",
    "\t\n",
    "\t# decide removal of salary\n",
    "\tif (sum(all_parent_days_list)==num_days_in_month):\n",
    "\t\tremove_from_salary = salary_monthly\n",
    "\telse:\n",
    "\t\tremove_from_salary = ((salary_monthly*12)/365)*sum(all_parent_days_list)\n",
    "\t#decide money from FK\n",
    "\tsalary_from_work = salary_monthly - remove_from_salary\n",
    "\tfrom_fk = parent_kr_per_day*num_effective_parent_days\n",
    "\tfrom_work_bonus = num_work_bonus_days*work_bonus_kr_per_day\n",
    "\tfrom_vacation_bonus = num_effective_vacation_days*vacation_bonus_kr_per_day\n",
    "\ttotal_salary = from_fk + from_work_bonus + salary_from_work + from_vacation_bonus\n",
    "\toutput = {}\n",
    "\toutput['from_work_bonus'] = from_work_bonus\n",
    "\toutput['from_fk'] = from_fk\n",
    "\toutput['salary_from_work'] = salary_from_work\n",
    "\toutput['total_salary'] = total_salary\n",
    "\toutput['month'] = date(year,month,1)\n",
    "\toutput['num_effective_vacation_days'] = num_effective_vacation_days\n",
    "\toutput['num_effective_parent_days'] = num_effective_parent_days\n",
    "\toutput['num_vacation_days'] = num_vacation_days\n",
    "\toutput['num_parent_days'] = num_parent_days\n",
    "\toutput['num_work_bonus_days'] = num_work_bonus_days\n",
    "\toutput['salary_from_work'] = salary_from_work\n",
    "\toutput['num_days_off'] = num_vacation_days + num_parent_days\n",
    "\toutput['name'] = name\n",
    "\treturn output\n",
    "\n"
   ]
  },
  {
   "cell_type": "code",
   "execution_count": 126,
   "metadata": {},
   "outputs": [
    {
     "data": {
      "text/plain": [
       "0"
      ]
     },
     "execution_count": 126,
     "metadata": {},
     "output_type": "execute_result"
    }
   ],
   "source": [
    "salary_monthly = 48000\n",
    "num_non_working_days = sum(1-month_df['work_f'])\n",
    "((salary_monthly*12)/365)*num_non_working_days\n",
    "sum((-month_df['work_j'])*month_df['workday'])"
   ]
  },
  {
   "cell_type": "code",
   "execution_count": 127,
   "metadata": {},
   "outputs": [],
   "source": [
    "#i = date(2019,8,1)\n",
    "#month_df = data[(data.index.year==i.year)&(data.index.month==i.month)]\n",
    "#calc_salary(month_df,'julia')"
   ]
  },
  {
   "cell_type": "code",
   "execution_count": 128,
   "metadata": {
    "collapsed": true
   },
   "outputs": [],
   "source": [
    "def calc_all(filename):\n",
    "    data = pd.read_csv(filename,sep=';')\n",
    "    data = data.fillna(0)\n",
    "    data['date_'] = data.apply(lambda x: datetime.strptime(x['date'], '%Y-%m-%d'), axis=1)\n",
    "    data = data.set_index('date_')\n",
    "    startyear = 2019\n",
    "    startmonth = 5\n",
    "    endyear = 2021\n",
    "    endmonth = 1\n",
    "    all_months = [date(m//12, m%12+1, 1) for m in range(startyear*12+startmonth-1, endyear*12+endmonth)]\n",
    "    list_of_output = []\n",
    "    for i in all_months:\n",
    "        month_df = data[(data.index.year==i.year)&(data.index.month==i.month)]\n",
    "        filip_output = calc_salary(month_df,'filip')\n",
    "        julia_output = calc_salary(month_df,'julia')\n",
    "        list_of_output.append(filip_output)\n",
    "        list_of_output.append(julia_output)\n",
    "    df = pd.DataFrame.from_dict(list_of_output)\n",
    "    #df.to_csv('out.csv',index=False)\n",
    "    return df\n"
   ]
  },
  {
   "cell_type": "code",
   "execution_count": 129,
   "metadata": {
    "collapsed": true
   },
   "outputs": [],
   "source": [
    "df1 = calc_all(\"input_1.csv\")\n",
    "df1 = df1.groupby(['month']).sum()\n",
    "df1['version'] = 'version_1'\n",
    "\n",
    "df2 = calc_all(\"input_2.csv\")\n",
    "df2 = df2.groupby(['month']).sum()\n",
    "df2['version'] = 'version_2'\n",
    "\n",
    "df3 = calc_all(\"input_3.csv\")\n",
    "df3 = df3.groupby(['month']).sum()\n",
    "df3['version'] = 'version_3'\n",
    "\n",
    "df_tmp = df1.append(df2)\n",
    "df = df_tmp.append(df3)\n",
    "df = df.reset_index()"
   ]
  },
  {
   "cell_type": "code",
   "execution_count": 130,
   "metadata": {},
   "outputs": [],
   "source": [
    "#df1 = calc_all(\"input_1.csv\")\n",
    "#df1['version'] = 'version_1'\n",
    "#df2 = calc_all(\"input_2.csv\")\n",
    "#df2['version'] = 'version_2'\n",
    "#df3 = calc_all(\"input_3.csv\")\n",
    "#df3['version'] = 'version_3'\n",
    "#df_tmp = df1.append(df2)\n",
    "#df = df_tmp.append(df3)\n",
    "#df.groupby(['month','name','version'])\n",
    "#df = df.reset_index()"
   ]
  },
  {
   "cell_type": "code",
   "execution_count": 131,
   "metadata": {},
   "outputs": [
    {
     "data": {
      "text/html": [
       "<div>\n",
       "<style>\n",
       "    .dataframe thead tr:only-child th {\n",
       "        text-align: right;\n",
       "    }\n",
       "\n",
       "    .dataframe thead th {\n",
       "        text-align: left;\n",
       "    }\n",
       "\n",
       "    .dataframe tbody tr th {\n",
       "        vertical-align: top;\n",
       "    }\n",
       "</style>\n",
       "<table border=\"1\" class=\"dataframe\">\n",
       "  <thead>\n",
       "    <tr style=\"text-align: right;\">\n",
       "      <th></th>\n",
       "      <th>from_fk</th>\n",
       "      <th>from_work_bonus</th>\n",
       "      <th>salary_from_work</th>\n",
       "      <th>total_salary</th>\n",
       "      <th>num_effective_parent_days</th>\n",
       "      <th>num_effective_vacation_days</th>\n",
       "      <th>num_days_off</th>\n",
       "      <th>num_parent_days</th>\n",
       "      <th>num_vacation_days</th>\n",
       "      <th>num_work_bonus_days</th>\n",
       "    </tr>\n",
       "    <tr>\n",
       "      <th>version</th>\n",
       "      <th></th>\n",
       "      <th></th>\n",
       "      <th></th>\n",
       "      <th></th>\n",
       "      <th></th>\n",
       "      <th></th>\n",
       "      <th></th>\n",
       "      <th></th>\n",
       "      <th></th>\n",
       "      <th></th>\n",
       "    </tr>\n",
       "  </thead>\n",
       "  <tbody>\n",
       "    <tr>\n",
       "      <th>version_1</th>\n",
       "      <td>299819.612067</td>\n",
       "      <td>83914.520548</td>\n",
       "      <td>791962.191781</td>\n",
       "      <td>1.185271e+06</td>\n",
       "      <td>330.000000</td>\n",
       "      <td>62.0</td>\n",
       "      <td>728.0</td>\n",
       "      <td>615.0</td>\n",
       "      <td>113.0</td>\n",
       "      <td>360.0</td>\n",
       "    </tr>\n",
       "    <tr>\n",
       "      <th>version_2</th>\n",
       "      <td>325803.372223</td>\n",
       "      <td>79792.438356</td>\n",
       "      <td>778022.465753</td>\n",
       "      <td>1.194315e+06</td>\n",
       "      <td>358.000000</td>\n",
       "      <td>67.0</td>\n",
       "      <td>750.0</td>\n",
       "      <td>630.0</td>\n",
       "      <td>120.0</td>\n",
       "      <td>355.0</td>\n",
       "    </tr>\n",
       "    <tr>\n",
       "      <th>version_3</th>\n",
       "      <td>254641.469135</td>\n",
       "      <td>79792.438356</td>\n",
       "      <td>778022.465753</td>\n",
       "      <td>1.123153e+06</td>\n",
       "      <td>270.285714</td>\n",
       "      <td>67.0</td>\n",
       "      <td>750.0</td>\n",
       "      <td>630.0</td>\n",
       "      <td>120.0</td>\n",
       "      <td>355.0</td>\n",
       "    </tr>\n",
       "  </tbody>\n",
       "</table>\n",
       "</div>"
      ],
      "text/plain": [
       "                 from_fk  from_work_bonus  salary_from_work  total_salary  \\\n",
       "version                                                                     \n",
       "version_1  299819.612067     83914.520548     791962.191781  1.185271e+06   \n",
       "version_2  325803.372223     79792.438356     778022.465753  1.194315e+06   \n",
       "version_3  254641.469135     79792.438356     778022.465753  1.123153e+06   \n",
       "\n",
       "           num_effective_parent_days  num_effective_vacation_days  \\\n",
       "version                                                             \n",
       "version_1                 330.000000                         62.0   \n",
       "version_2                 358.000000                         67.0   \n",
       "version_3                 270.285714                         67.0   \n",
       "\n",
       "           num_days_off  num_parent_days  num_vacation_days  \\\n",
       "version                                                       \n",
       "version_1         728.0            615.0              113.0   \n",
       "version_2         750.0            630.0              120.0   \n",
       "version_3         750.0            630.0              120.0   \n",
       "\n",
       "           num_work_bonus_days  \n",
       "version                         \n",
       "version_1                360.0  \n",
       "version_2                355.0  \n",
       "version_3                355.0  "
      ]
     },
     "execution_count": 131,
     "metadata": {},
     "output_type": "execute_result"
    }
   ],
   "source": [
    "df.groupby(['version']).sum()[['from_fk','from_work_bonus','salary_from_work','total_salary','num_effective_parent_days','num_effective_vacation_days','num_days_off','num_parent_days','num_vacation_days','num_work_bonus_days']]"
   ]
  },
  {
   "cell_type": "code",
   "execution_count": null,
   "metadata": {
    "collapsed": true
   },
   "outputs": [],
   "source": []
  },
  {
   "cell_type": "code",
   "execution_count": null,
   "metadata": {
    "collapsed": true
   },
   "outputs": [],
   "source": []
  },
  {
   "cell_type": "code",
   "execution_count": null,
   "metadata": {},
   "outputs": [],
   "source": []
  },
  {
   "cell_type": "code",
   "execution_count": 20,
   "metadata": {},
   "outputs": [
    {
     "data": {
      "image/png": "[encoded data removed]",
      "text/plain": [
       "<matplotlib.figure.Figure at 0x108425898>"
      ]
     },
     "metadata": {},
     "output_type": "display_data"
    },
    {
     "data": {
      "image/png": "[encoded data removed]",
      "text/plain": [
       "<matplotlib.figure.Figure at 0x1106e1cc0>"
      ]
     },
     "metadata": {},
     "output_type": "display_data"
    },
    {
     "data": {
      "image/png": "[encoded data removed]",
      "text/plain": [
       "<matplotlib.figure.Figure at 0x110824470>"
      ]
     },
     "metadata": {},
     "output_type": "display_data"
    }
   ],
   "source": [
    "import matplotlib.pyplot as plt\n",
    "import matplotlib.pyplot as plt; plt.rcdefaults()\n",
    "import matplotlib.pyplot as plt\n",
    "import numpy as np\n",
    "from matplotlib.pyplot import figure\n",
    "df.pivot(index='month', columns='version', values='total_salary').plot(kind='bar',figsize=(16,8))\n",
    "plt.show()"
   ]
  },
  {
   "cell_type": "code",
   "execution_count": 351,
   "metadata": {},
   "outputs": [
    {
     "data": {
      "image/png": "[encoded data removed]",
      "text/plain": [
       "<Figure size 1600x800 with 1 Axes>"
      ]
     },
     "metadata": {},
     "output_type": "display_data"
    }
   ],
   "source": [
    "calc_all(\"input_3.csv\").reset_index().pivot('month','name','num_effective_vacation_days').plot(kind='bar',figsize=(16,8))\n",
    "plt.show()"
   ]
  },
  {
   "cell_type": "code",
   "execution_count": null,
   "metadata": {
    "collapsed": true
   },
   "outputs": [],
   "source": []
  },
  {
   "cell_type": "code",
   "execution_count": 27,
   "metadata": {
    "collapsed": true
   },
   "outputs": [],
   "source": [
    "output_df = output_df[output_df['name']=='filip']"
   ]
  },
  {
   "cell_type": "code",
   "execution_count": 30,
   "metadata": {
    "collapsed": true
   },
   "outputs": [],
   "source": [
    "output_df.month = output_df.month.apply(lambda x: str(x))"
   ]
  },
  {
   "cell_type": "code",
   "execution_count": null,
   "metadata": {
    "collapsed": true
   },
   "outputs": [],
   "source": []
  },
  {
   "cell_type": "code",
   "execution_count": null,
   "metadata": {
    "collapsed": true
   },
   "outputs": [],
   "source": [
    "\n"
   ]
  },
  {
   "cell_type": "code",
   "execution_count": 238,
   "metadata": {},
   "outputs": [
    {
     "data": {
      "text/html": [
       "<div>\n",
       "<style scoped>\n",
       "    .dataframe tbody tr th:only-of-type {\n",
       "        vertical-align: middle;\n",
       "    }\n",
       "\n",
       "    .dataframe tbody tr th {\n",
       "        vertical-align: top;\n",
       "    }\n",
       "\n",
       "    .dataframe thead th {\n",
       "        text-align: right;\n",
       "    }\n",
       "</style>\n",
       "<table border=\"1\" class=\"dataframe\">\n",
       "  <thead>\n",
       "    <tr style=\"text-align: right;\">\n",
       "      <th></th>\n",
       "      <th>num_effective_parent_days</th>\n",
       "      <th>num_not_work</th>\n",
       "      <th>num_vacation_days</th>\n",
       "      <th>num_work_bonus_days</th>\n",
       "      <th>salary_from_work</th>\n",
       "      <th>total_salary</th>\n",
       "      <th>version</th>\n",
       "    </tr>\n",
       "    <tr>\n",
       "      <th>month</th>\n",
       "      <th></th>\n",
       "      <th></th>\n",
       "      <th></th>\n",
       "      <th></th>\n",
       "      <th></th>\n",
       "      <th></th>\n",
       "      <th></th>\n",
       "    </tr>\n",
       "  </thead>\n",
       "  <tbody>\n",
       "    <tr>\n",
       "      <th>2019-05-01</th>\n",
       "      <td>1.428571</td>\n",
       "      <td>8.428571</td>\n",
       "      <td>7.0</td>\n",
       "      <td>10.0</td>\n",
       "      <td>63345.205479</td>\n",
       "      <td>66813.873582</td>\n",
       "      <td>version_3</td>\n",
       "    </tr>\n",
       "    <tr>\n",
       "      <th>2019-06-01</th>\n",
       "      <td>11.285714</td>\n",
       "      <td>24.285714</td>\n",
       "      <td>13.0</td>\n",
       "      <td>30.0</td>\n",
       "      <td>32334.246575</td>\n",
       "      <td>48215.670060</td>\n",
       "      <td>version_3</td>\n",
       "    </tr>\n",
       "    <tr>\n",
       "      <th>2019-07-01</th>\n",
       "      <td>34.000000</td>\n",
       "      <td>44.000000</td>\n",
       "      <td>10.0</td>\n",
       "      <td>17.0</td>\n",
       "      <td>14026.849315</td>\n",
       "      <td>48833.640001</td>\n",
       "      <td>version_3</td>\n",
       "    </tr>\n",
       "    <tr>\n",
       "      <th>2019-08-01</th>\n",
       "      <td>21.142857</td>\n",
       "      <td>21.142857</td>\n",
       "      <td>0.0</td>\n",
       "      <td>31.0</td>\n",
       "      <td>29572.602740</td>\n",
       "      <td>51562.417222</td>\n",
       "      <td>version_3</td>\n",
       "    </tr>\n",
       "    <tr>\n",
       "      <th>2019-09-01</th>\n",
       "      <td>4.285714</td>\n",
       "      <td>4.285714</td>\n",
       "      <td>0.0</td>\n",
       "      <td>30.0</td>\n",
       "      <td>42000.000000</td>\n",
       "      <td>48613.404306</td>\n",
       "      <td>version_3</td>\n",
       "    </tr>\n",
       "    <tr>\n",
       "      <th>2019-10-01</th>\n",
       "      <td>4.428571</td>\n",
       "      <td>4.428571</td>\n",
       "      <td>0.0</td>\n",
       "      <td>31.0</td>\n",
       "      <td>42000.000000</td>\n",
       "      <td>48833.851117</td>\n",
       "      <td>version_3</td>\n",
       "    </tr>\n",
       "    <tr>\n",
       "      <th>2019-11-01</th>\n",
       "      <td>4.285714</td>\n",
       "      <td>4.285714</td>\n",
       "      <td>0.0</td>\n",
       "      <td>30.0</td>\n",
       "      <td>42000.000000</td>\n",
       "      <td>48613.404306</td>\n",
       "      <td>version_3</td>\n",
       "    </tr>\n",
       "    <tr>\n",
       "      <th>2019-12-01</th>\n",
       "      <td>2.714286</td>\n",
       "      <td>9.714286</td>\n",
       "      <td>7.0</td>\n",
       "      <td>10.0</td>\n",
       "      <td>53935.890411</td>\n",
       "      <td>58272.208298</td>\n",
       "      <td>version_3</td>\n",
       "    </tr>\n",
       "    <tr>\n",
       "      <th>2020-01-01</th>\n",
       "      <td>9.428571</td>\n",
       "      <td>14.428571</td>\n",
       "      <td>5.0</td>\n",
       "      <td>0.0</td>\n",
       "      <td>43185.205479</td>\n",
       "      <td>52213.872917</td>\n",
       "      <td>version_3</td>\n",
       "    </tr>\n",
       "    <tr>\n",
       "      <th>2020-02-01</th>\n",
       "      <td>13.428571</td>\n",
       "      <td>13.428571</td>\n",
       "      <td>0.0</td>\n",
       "      <td>0.0</td>\n",
       "      <td>35095.890411</td>\n",
       "      <td>46876.937144</td>\n",
       "      <td>version_3</td>\n",
       "    </tr>\n",
       "    <tr>\n",
       "      <th>2020-03-01</th>\n",
       "      <td>4.428571</td>\n",
       "      <td>4.428571</td>\n",
       "      <td>0.0</td>\n",
       "      <td>0.0</td>\n",
       "      <td>42000.000000</td>\n",
       "      <td>45592.864815</td>\n",
       "      <td>version_3</td>\n",
       "    </tr>\n",
       "    <tr>\n",
       "      <th>2020-04-01</th>\n",
       "      <td>4.285714</td>\n",
       "      <td>4.285714</td>\n",
       "      <td>0.0</td>\n",
       "      <td>0.0</td>\n",
       "      <td>42000.000000</td>\n",
       "      <td>45476.965950</td>\n",
       "      <td>version_3</td>\n",
       "    </tr>\n",
       "    <tr>\n",
       "      <th>2020-05-01</th>\n",
       "      <td>6.142857</td>\n",
       "      <td>6.142857</td>\n",
       "      <td>0.0</td>\n",
       "      <td>7.0</td>\n",
       "      <td>39042.739726</td>\n",
       "      <td>47089.829825</td>\n",
       "      <td>version_3</td>\n",
       "    </tr>\n",
       "    <tr>\n",
       "      <th>2020-06-01</th>\n",
       "      <td>12.857143</td>\n",
       "      <td>12.857143</td>\n",
       "      <td>0.0</td>\n",
       "      <td>30.0</td>\n",
       "      <td>31800.000000</td>\n",
       "      <td>55359.921723</td>\n",
       "      <td>version_3</td>\n",
       "    </tr>\n",
       "    <tr>\n",
       "      <th>2020-07-01</th>\n",
       "      <td>11.142857</td>\n",
       "      <td>31.142857</td>\n",
       "      <td>20.0</td>\n",
       "      <td>26.0</td>\n",
       "      <td>32671.232877</td>\n",
       "      <td>56043.931703</td>\n",
       "      <td>version_3</td>\n",
       "    </tr>\n",
       "    <tr>\n",
       "      <th>2020-08-01</th>\n",
       "      <td>15.714286</td>\n",
       "      <td>20.714286</td>\n",
       "      <td>5.0</td>\n",
       "      <td>22.0</td>\n",
       "      <td>34012.602740</td>\n",
       "      <td>58406.953034</td>\n",
       "      <td>version_3</td>\n",
       "    </tr>\n",
       "    <tr>\n",
       "      <th>2020-09-01</th>\n",
       "      <td>21.428571</td>\n",
       "      <td>21.428571</td>\n",
       "      <td>0.0</td>\n",
       "      <td>30.0</td>\n",
       "      <td>31800.000000</td>\n",
       "      <td>63833.659492</td>\n",
       "      <td>version_3</td>\n",
       "    </tr>\n",
       "    <tr>\n",
       "      <th>2020-10-01</th>\n",
       "      <td>22.142857</td>\n",
       "      <td>22.142857</td>\n",
       "      <td>0.0</td>\n",
       "      <td>31.0</td>\n",
       "      <td>31800.000000</td>\n",
       "      <td>64901.448141</td>\n",
       "      <td>version_3</td>\n",
       "    </tr>\n",
       "    <tr>\n",
       "      <th>2020-11-01</th>\n",
       "      <td>21.428571</td>\n",
       "      <td>21.428571</td>\n",
       "      <td>0.0</td>\n",
       "      <td>20.0</td>\n",
       "      <td>31800.000000</td>\n",
       "      <td>60217.221135</td>\n",
       "      <td>version_3</td>\n",
       "    </tr>\n",
       "    <tr>\n",
       "      <th>2020-12-01</th>\n",
       "      <td>22.142857</td>\n",
       "      <td>22.142857</td>\n",
       "      <td>0.0</td>\n",
       "      <td>0.0</td>\n",
       "      <td>31800.000000</td>\n",
       "      <td>53690.489237</td>\n",
       "      <td>version_3</td>\n",
       "    </tr>\n",
       "    <tr>\n",
       "      <th>2021-01-01</th>\n",
       "      <td>22.142857</td>\n",
       "      <td>22.142857</td>\n",
       "      <td>0.0</td>\n",
       "      <td>0.0</td>\n",
       "      <td>31800.000000</td>\n",
       "      <td>53690.489237</td>\n",
       "      <td>version_3</td>\n",
       "    </tr>\n",
       "  </tbody>\n",
       "</table>\n",
       "</div>"
      ],
      "text/plain": [
       "            num_effective_parent_days  num_not_work  num_vacation_days  \\\n",
       "month                                                                    \n",
       "2019-05-01                   1.428571      8.428571                7.0   \n",
       "2019-06-01                  11.285714     24.285714               13.0   \n",
       "2019-07-01                  34.000000     44.000000               10.0   \n",
       "2019-08-01                  21.142857     21.142857                0.0   \n",
       "2019-09-01                   4.285714      4.285714                0.0   \n",
       "2019-10-01                   4.428571      4.428571                0.0   \n",
       "2019-11-01                   4.285714      4.285714                0.0   \n",
       "2019-12-01                   2.714286      9.714286                7.0   \n",
       "2020-01-01                   9.428571     14.428571                5.0   \n",
       "2020-02-01                  13.428571     13.428571                0.0   \n",
       "2020-03-01                   4.428571      4.428571                0.0   \n",
       "2020-04-01                   4.285714      4.285714                0.0   \n",
       "2020-05-01                   6.142857      6.142857                0.0   \n",
       "2020-06-01                  12.857143     12.857143                0.0   \n",
       "2020-07-01                  11.142857     31.142857               20.0   \n",
       "2020-08-01                  15.714286     20.714286                5.0   \n",
       "2020-09-01                  21.428571     21.428571                0.0   \n",
       "2020-10-01                  22.142857     22.142857                0.0   \n",
       "2020-11-01                  21.428571     21.428571                0.0   \n",
       "2020-12-01                  22.142857     22.142857                0.0   \n",
       "2021-01-01                  22.142857     22.142857                0.0   \n",
       "\n",
       "            num_work_bonus_days  salary_from_work  total_salary    version  \n",
       "month                                                                       \n",
       "2019-05-01                 10.0      63345.205479  66813.873582  version_3  \n",
       "2019-06-01                 30.0      32334.246575  48215.670060  version_3  \n",
       "2019-07-01                 17.0      14026.849315  48833.640001  version_3  \n",
       "2019-08-01                 31.0      29572.602740  51562.417222  version_3  \n",
       "2019-09-01                 30.0      42000.000000  48613.404306  version_3  \n",
       "2019-10-01                 31.0      42000.000000  48833.851117  version_3  \n",
       "2019-11-01                 30.0      42000.000000  48613.404306  version_3  \n",
       "2019-12-01                 10.0      53935.890411  58272.208298  version_3  \n",
       "2020-01-01                  0.0      43185.205479  52213.872917  version_3  \n",
       "2020-02-01                  0.0      35095.890411  46876.937144  version_3  \n",
       "2020-03-01                  0.0      42000.000000  45592.864815  version_3  \n",
       "2020-04-01                  0.0      42000.000000  45476.965950  version_3  \n",
       "2020-05-01                  7.0      39042.739726  47089.829825  version_3  \n",
       "2020-06-01                 30.0      31800.000000  55359.921723  version_3  \n",
       "2020-07-01                 26.0      32671.232877  56043.931703  version_3  \n",
       "2020-08-01                 22.0      34012.602740  58406.953034  version_3  \n",
       "2020-09-01                 30.0      31800.000000  63833.659492  version_3  \n",
       "2020-10-01                 31.0      31800.000000  64901.448141  version_3  \n",
       "2020-11-01                 20.0      31800.000000  60217.221135  version_3  \n",
       "2020-12-01                  0.0      31800.000000  53690.489237  version_3  \n",
       "2021-01-01                  0.0      31800.000000  53690.489237  version_3  "
      ]
     },
     "execution_count": 238,
     "metadata": {},
     "output_type": "execute_result"
    }
   ],
   "source": [
    "\n",
    "#figure(num=None, figsize=(18, 6), dpi=80, facecolor='w', edgecolor='k')\n",
    "\n",
    "df3#.pivot('month','name','num_not_work_days').plot(kind='bar')\n",
    "\n",
    "#plt.show()"
   ]
  },
  {
   "cell_type": "code",
   "execution_count": 25,
   "metadata": {},
   "outputs": [
    {
     "ename": "NameError",
     "evalue": "name 'pd_output' is not defined",
     "output_type": "error",
     "traceback": [
      "\u001b[0;31m---------------------------------------------------------------------------\u001b[0m",
      "\u001b[0;31mNameError\u001b[0m                                 Traceback (most recent call last)",
      "\u001b[0;32m<ipython-input-25-68bcf347df60>\u001b[0m in \u001b[0;36m<module>\u001b[0;34m()\u001b[0m\n\u001b[0;32m----> 1\u001b[0;31m \u001b[0moutput_filip\u001b[0m \u001b[0;34m=\u001b[0m \u001b[0mpd_output\u001b[0m\u001b[0;34m[\u001b[0m\u001b[0mpd_output\u001b[0m\u001b[0;34m[\u001b[0m\u001b[0;34m'name'\u001b[0m\u001b[0;34m]\u001b[0m \u001b[0;34m==\u001b[0m \u001b[0;34m'filip'\u001b[0m\u001b[0;34m]\u001b[0m\u001b[0;34m\u001b[0m\u001b[0m\n\u001b[0m\u001b[1;32m      2\u001b[0m \u001b[0mtot_vacation_days\u001b[0m \u001b[0;34m=\u001b[0m \u001b[0moutput_filip\u001b[0m\u001b[0;34m[\u001b[0m\u001b[0;34m'num_vacation_days'\u001b[0m\u001b[0;34m]\u001b[0m\u001b[0;34m.\u001b[0m\u001b[0msum\u001b[0m\u001b[0;34m(\u001b[0m\u001b[0;34m)\u001b[0m\u001b[0;34m\u001b[0m\u001b[0m\n\u001b[1;32m      3\u001b[0m \u001b[0mtot_parent_days\u001b[0m \u001b[0;34m=\u001b[0m \u001b[0moutput_filip\u001b[0m\u001b[0;34m[\u001b[0m\u001b[0;34m'num_total_parent_days'\u001b[0m\u001b[0;34m]\u001b[0m\u001b[0;34m.\u001b[0m\u001b[0msum\u001b[0m\u001b[0;34m(\u001b[0m\u001b[0;34m)\u001b[0m\u001b[0;34m\u001b[0m\u001b[0m\n",
      "\u001b[0;31mNameError\u001b[0m: name 'pd_output' is not defined"
     ]
    }
   ],
   "source": [
    "output_filip = pd_output[pd_output['name'] == 'filip']\n",
    "tot_vacation_days = output_filip['num_vacation_days'].sum()\n",
    "tot_parent_days = output_filip['num_total_parent_days'].sum()\n"
   ]
  },
  {
   "cell_type": "code",
   "execution_count": 27,
   "metadata": {},
   "outputs": [
    {
     "ename": "NameError",
     "evalue": "name 'plt' is not defined",
     "output_type": "error",
     "traceback": [
      "\u001b[0;31m---------------------------------------------------------------------------\u001b[0m",
      "\u001b[0;31mNameError\u001b[0m                                 Traceback (most recent call last)",
      "\u001b[0;32m<ipython-input-27-c301bda9fb05>\u001b[0m in \u001b[0;36m<module>\u001b[0;34m()\u001b[0m\n\u001b[0;32m----> 1\u001b[0;31m \u001b[0mplt\u001b[0m\u001b[0;34m.\u001b[0m\u001b[0mplot\u001b[0m\u001b[0;34m(\u001b[0m\u001b[0moutput_filip\u001b[0m\u001b[0;34m[\u001b[0m\u001b[0;34m'month'\u001b[0m\u001b[0;34m]\u001b[0m\u001b[0;34m)\u001b[0m\u001b[0;34m\u001b[0m\u001b[0m\n\u001b[0m",
      "\u001b[0;31mNameError\u001b[0m: name 'plt' is not defined"
     ]
    }
   ],
   "source": [
    "plt.plot(output_filip['month'])"
   ]
  },
  {
   "cell_type": "code",
   "execution_count": null,
   "metadata": {
    "collapsed": true
   },
   "outputs": [],
   "source": []
  }
 ],
 "metadata": {
  "kernelspec": {
   "display_name": "Python 3",
   "language": "python",
   "name": "python3"
  },
  "language_info": {
   "codemirror_mode": {
    "name": "ipython",
    "version": 3
   },
   "file_extension": ".py",
   "mimetype": "text/x-python",
   "name": "python",
   "nbconvert_exporter": "python",
   "pygments_lexer": "ipython3",
   "version": "3.6.3"
  }
 },
 "nbformat": 4,
 "nbformat_minor": 2
}
